{
 "cells": [
  {
   "cell_type": "code",
   "execution_count": 2,
   "metadata": {},
   "outputs": [],
   "source": [
    "import os\n",
    "import scipy.io\n",
    "import pandas as pd\n",
    "import numpy as np\n",
    "\n",
    "\n",
    "# Directory containing .mat files\n",
    "folder_path = 'TFA/Data/'\n",
    "\n",
    "# List all files in the directory\n",
    "files = os.listdir(folder_path)\n",
    "\n",
    "# Filter out .mat files\n",
    "mat_files = [file for file in files if file.endswith('.mat')]\n"
   ]
  },
  {
   "attachments": {},
   "cell_type": "markdown",
   "metadata": {},
   "source": [
    "### Test and train split is done as follows: Combining all the subjects data and then splitting the data in 80:20 at random"
   ]
  },
  {
   "cell_type": "code",
   "execution_count": 3,
   "metadata": {},
   "outputs": [],
   "source": [
    "dfs = []\n",
    "\n",
    "for file in mat_files:\n",
    "    file_path = os.path.join(folder_path, file)\n",
    "    mat_data = scipy.io.loadmat(file_path)\n",
    "    # Assuming your data is stored in 'tfaOut' key\n",
    "    data = mat_data[\"tfaOut\"]\n",
    "    # print(np.shape(data))\n",
    "    # Reshape data to 2D array\n",
    "    reshaped_data = data.reshape(-1, data.shape[-1])\n",
    "    df = pd.DataFrame(reshaped_data)\n",
    "    # print(np.shape(df))\n",
    "    label_column = np.zeros(len(df))  # Initialize with zeros\n",
    "    label_column[:20500] = 0 # First 5000 rows get value 0\n",
    "    label_column[-20500:] = 0  # Last 5000 rows get value 0\n",
    "    label_column[20500:-20500] = 1\n",
    "    df['label'] = label_column \n",
    "    dfs.append(df)\n",
    "\n",
    "# Concatenate all DataFrames into a single DataFrame\n",
    "df = pd.concat(dfs, ignore_index=True)\n"
   ]
  },
  {
   "cell_type": "code",
   "execution_count": 4,
   "metadata": {},
   "outputs": [],
   "source": [
    "import torch\n",
    "from torch import nn\n",
    "from torch.utils.data import TensorDataset, DataLoader\n"
   ]
  },
  {
   "cell_type": "code",
   "execution_count": 5,
   "metadata": {},
   "outputs": [],
   "source": [
    "import tensorflow as tf\n",
    "\n",
    "def split_features_target(data):\n",
    "  # Assuming the label is in the last column\n",
    "  features = data[:, :-1]  # All columns except the last\n",
    "  target = data[:, -1]  # Last column\n",
    "  features = torch.tensor(features)\n",
    "  target = torch.tensor(target)\n",
    "  return features, target\n",
    "\n",
    "# Split features and target\n",
    "X, y = split_features_target(df.to_numpy())\n",
    "y = tf.expand_dims(y, axis=1)\n",
    "\n"
   ]
  },
  {
   "attachments": {},
   "cell_type": "markdown",
   "metadata": {},
   "source": [
    "### CNN"
   ]
  },
  {
   "cell_type": "code",
   "execution_count": 5,
   "metadata": {},
   "outputs": [
    {
     "name": "stdout",
     "output_type": "stream",
     "text": [
      "Model: \"sequential\"\n",
      "_________________________________________________________________\n",
      " Layer (type)                Output Shape              Param #   \n",
      "=================================================================\n",
      " reshape (Reshape)           (None, 10, 1)             0         \n",
      "                                                                 \n",
      " conv1d (Conv1D)             (None, 8, 32)             128       \n",
      "                                                                 \n",
      " max_pooling1d (MaxPooling1D  (None, 4, 32)            0         \n",
      " )                                                               \n",
      "                                                                 \n",
      " flatten (Flatten)           (None, 128)               0         \n",
      "                                                                 \n",
      " dense (Dense)               (None, 128)               16512     \n",
      "                                                                 \n",
      " dropout (Dropout)           (None, 128)               0         \n",
      "                                                                 \n",
      " dense_1 (Dense)             (None, 1)                 129       \n",
      "                                                                 \n",
      "=================================================================\n",
      "Total params: 16,769\n",
      "Trainable params: 16,769\n",
      "Non-trainable params: 0\n",
      "_________________________________________________________________\n"
     ]
    }
   ],
   "source": [
    "import tensorflow as tf\n",
    "from tensorflow.keras import layers, models\n",
    "\n",
    "# Define the input shape\n",
    "input_shape = (10,)  # Assuming each sample has 10 features\n",
    "\n",
    "# Define the CNN model\n",
    "model = models.Sequential([\n",
    "    layers.Reshape(input_shape + (1,), input_shape=input_shape),  # Reshape input to match (10, 1) for grayscale\n",
    "    layers.Conv1D(32, kernel_size=3, activation='relu'),           # Convolutional layer with 32 filters\n",
    "    layers.MaxPooling1D(pool_size=2),                              # Max pooling layer\n",
    "    layers.Flatten(),                                              # Flatten layer\n",
    "    layers.Dense(128, activation='relu'),                         # Dense layer with 128 neurons\n",
    "    layers.Dropout(0.5),                                           # Dropout layer with dropout rate of 0.5\n",
    "    layers.Dense(1, activation='sigmoid')                          # Output layer with 1 neuron and sigmoid activation\n",
    "])\n",
    "\n",
    "# Compile the model\n",
    "model.compile(optimizer='adam',\n",
    "              loss='binary_crossentropy',\n",
    "              metrics=['accuracy'])\n",
    "\n",
    "# Display the model summary\n",
    "model.summary()\n",
    "import numpy as np\n",
    "from sklearn.model_selection import train_test_split\n",
    "\n",
    "# Assuming X_train and y_train are your input and target data\n",
    "X_np = np.array(X)\n",
    "y_np = np.array(y)\n",
    "\n",
    "# Split the data into training and validation sets\n",
    "X_train_split, X_test_split, y_train_split, y_test_split = train_test_split(X_np, y_np, test_size=0.5, random_state=42)\n",
    "\n"
   ]
  },
  {
   "cell_type": "code",
   "execution_count": 6,
   "metadata": {},
   "outputs": [
    {
     "name": "stderr",
     "output_type": "stream",
     "text": [
      "2024-04-10 13:04:14.044200: W tensorflow/tsl/framework/cpu_allocator_impl.cc:83] Allocation of 363148480 exceeds 10% of free system memory.\n"
     ]
    },
    {
     "name": "stdout",
     "output_type": "stream",
     "text": [
      "35464/35464 [==============================] - 86s 2ms/step - loss: 0.1037 - accuracy: 0.9775\n"
     ]
    },
    {
     "ename": "",
     "evalue": "",
     "output_type": "error",
     "traceback": [
      "\u001b[1;31mCanceled future for execute_request message before replies were done"
     ]
    },
    {
     "ename": "",
     "evalue": "",
     "output_type": "error",
     "traceback": [
      "\u001b[1;31mThe Kernel crashed while executing code in the the current cell or a previous cell. Please review the code in the cell(s) to identify a possible cause of the failure. Click <a href='https://aka.ms/vscodeJupyterKernelCrash'>here</a> for more info. View Jupyter <a href='command:jupyter.viewOutput'>log</a> for further details."
     ]
    }
   ],
   "source": [
    "# Train the model\n",
    "history = model.fit(X_train_split, y_train_split, epochs=1, batch_size=256)\n",
    "\n",
    "\n",
    "\n",
    "from sklearn.metrics import precision_score, recall_score, confusion_matrix, accuracy_score\n",
    "\n",
    "# Predict probabilities for each class\n",
    "y_pred_prob = model.predict(X_test_split)\n",
    "\n",
    "# Convert probabilities to class labels\n",
    "y_pred = (y_pred_prob > 0.5).astype(int)\n",
    "\n",
    "# Calculate precision\n",
    "precision = precision_score(y_test_split, y_pred)\n",
    "\n",
    "# Calculate recall\n",
    "recall = recall_score(y_test_split, y_pred)\n",
    "\n",
    "# Calculate confusion matrix\n",
    "conf_matrix = confusion_matrix(y_test_split, y_pred)\n",
    "\n",
    "# Calculate accuracy\n",
    "accuracy = accuracy_score(y_test_split, y_pred)\n",
    "\n",
    "# Print the results\n",
    "print(\"Precision:\", precision)\n",
    "print(\"Recall:\", recall)\n",
    "print(\"Confusion Matrix:\\n\", conf_matrix)\n",
    "print(\"Accuracy:\", accuracy)\n"
   ]
  },
  {
   "attachments": {},
   "cell_type": "markdown",
   "metadata": {},
   "source": [
    "### NN"
   ]
  },
  {
   "cell_type": "code",
   "execution_count": 6,
   "metadata": {},
   "outputs": [
    {
     "name": "stdout",
     "output_type": "stream",
     "text": [
      "Model: \"sequential_1\"\n",
      "_________________________________________________________________\n",
      " Layer (type)                Output Shape              Param #   \n",
      "=================================================================\n",
      " dense_3 (Dense)             (None, 128)               1408      \n",
      "                                                                 \n",
      " dense_4 (Dense)             (None, 64)                8256      \n",
      "                                                                 \n",
      " dropout_1 (Dropout)         (None, 64)                0         \n",
      "                                                                 \n",
      " dense_5 (Dense)             (None, 1)                 65        \n",
      "                                                                 \n",
      "=================================================================\n",
      "Total params: 9,729\n",
      "Trainable params: 9,729\n",
      "Non-trainable params: 0\n",
      "_________________________________________________________________\n",
      "35442/35464 [============================>.] - ETA: 0s - loss: 0.1021 - accuracy: 0.9775"
     ]
    },
    {
     "ename": "",
     "evalue": "",
     "output_type": "error",
     "traceback": [
      "\u001b[1;31mCanceled future for execute_request message before replies were done"
     ]
    },
    {
     "ename": "",
     "evalue": "",
     "output_type": "error",
     "traceback": [
      "\u001b[1;31mThe Kernel crashed while executing code in the the current cell or a previous cell. Please review the code in the cell(s) to identify a possible cause of the failure. Click <a href='https://aka.ms/vscodeJupyterKernelCrash'>here</a> for more info. View Jupyter <a href='command:jupyter.viewOutput'>log</a> for further details."
     ]
    }
   ],
   "source": [
    "import tensorflow as tf\n",
    "from tensorflow.keras import layers, models\n",
    "\n",
    "# Define the input shape\n",
    "input_shape = (10,)  # Assuming each sample has 10 features\n",
    "\n",
    "# Define the neural network model\n",
    "model = models.Sequential([\n",
    "    layers.Dense(128, activation='relu', input_shape=input_shape),  # Dense layer with 64 neurons and ReLU activation\n",
    "    layers.Dense(64, activation='relu'),                            # Dense layer with 32 neurons and ReLU activation\n",
    "    layers.Dropout(0.1),                                             # Dropout layer with dropout rate of 0.5\n",
    "    layers.Dense(1, activation='sigmoid')                            # Output layer with 1 neuron and sigmoid activation\n",
    "])\n",
    "\n",
    "# Compile the model\n",
    "model.compile(optimizer='adam',\n",
    "              loss='binary_crossentropy',\n",
    "              metrics=['accuracy'])\n",
    "\n",
    "# Display the model summary\n",
    "model.summary()\n",
    "\n",
    "import numpy as np\n",
    "from sklearn.model_selection import train_test_split\n",
    "\n",
    "# Assuming X_train and y_train are your input and target data\n",
    "X_np = np.array(X)\n",
    "y_np = np.array(y)\n",
    "\n",
    "# Split the data into training and validation sets\n",
    "X_train_split, X_test_split, y_train_split, y_test_split = train_test_split(X_np, y_np, test_size=0.5, random_state=42)\n",
    "\n",
    "# Train the model\n",
    "history = model.fit(X_train_split, y_train_split, epochs=1, batch_size=256, validation_data=(X_test_split, y_test_split))\n",
    "\n"
   ]
  },
  {
   "cell_type": "code",
   "execution_count": null,
   "metadata": {},
   "outputs": [],
   "source": [
    "from sklearn.metrics import precision_score, recall_score, confusion_matrix, accuracy_score\n",
    "\n",
    "# Predict probabilities for each class\n",
    "y_pred_prob = model.predict(X_test_split)\n",
    "\n",
    "# Convert probabilities to class labels\n",
    "y_pred = (y_pred_prob > 0.5).astype(int)\n",
    "\n",
    "# Calculate precision\n",
    "precision = precision_score(y_test_split, y_pred)\n",
    "\n",
    "# Calculate recall\n",
    "recall = recall_score(y_test_split, y_pred)\n",
    "\n",
    "# Calculate confusion matrix\n",
    "conf_matrix = confusion_matrix(y_test_split, y_pred)\n",
    "\n",
    "# Calculate accuracy\n",
    "accuracy = accuracy_score(y_test_split, y_pred)\n",
    "\n",
    "# Print the results\n",
    "print(\"Precision:\", precision)\n",
    "print(\"Recall:\", recall)\n",
    "print(\"Confusion Matrix:\\n\", conf_matrix)\n",
    "print(\"Accuracy:\", accuracy)\n"
   ]
  }
 ],
 "metadata": {
  "kernelspec": {
   "display_name": "Python 3",
   "language": "python",
   "name": "python3"
  },
  "language_info": {
   "codemirror_mode": {
    "name": "ipython",
    "version": 3
   },
   "file_extension": ".py",
   "mimetype": "text/x-python",
   "name": "python",
   "nbconvert_exporter": "python",
   "pygments_lexer": "ipython3",
   "version": "3.10.12"
  },
  "orig_nbformat": 4
 },
 "nbformat": 4,
 "nbformat_minor": 2
}
